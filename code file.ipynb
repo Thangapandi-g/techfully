{
 "cells": [
  {
   "cell_type": "code",
   "execution_count": 1,
   "metadata": {},
   "outputs": [
    {
     "data": {
      "text/html": [
       "<style  type=\"text/css\" >\n",
       "</style><table id=\"T_a1f9a814_5bee_11eb_8281_82a81bf93680\" ><caption>Employee Details of Techfully.io</caption><thead>    <tr>        <th class=\"blank level0\" ></th>        <th class=\"col_heading level0 col0\" >name</th>        <th class=\"col_heading level0 col1\" >degree</th>        <th class=\"col_heading level0 col2\" >score</th>        <th class=\"col_heading level0 col3\" >pre.employee</th>    </tr></thead><tbody>\n",
       "                <tr>\n",
       "                        <th id=\"T_a1f9a814_5bee_11eb_8281_82a81bf93680level0_row0\" class=\"row_heading level0 row0\" >0</th>\n",
       "                        <td id=\"T_a1f9a814_5bee_11eb_8281_82a81bf93680row0_col0\" class=\"data row0 col0\" >aparna k</td>\n",
       "                        <td id=\"T_a1f9a814_5bee_11eb_8281_82a81bf93680row0_col1\" class=\"data row0 col1\" >MBA</td>\n",
       "                        <td id=\"T_a1f9a814_5bee_11eb_8281_82a81bf93680row0_col2\" class=\"data row0 col2\" >90</td>\n",
       "                        <td id=\"T_a1f9a814_5bee_11eb_8281_82a81bf93680row0_col3\" class=\"data row0 col3\" >accenture,tcs,cap</td>\n",
       "            </tr>\n",
       "            <tr>\n",
       "                        <th id=\"T_a1f9a814_5bee_11eb_8281_82a81bf93680level0_row1\" class=\"row_heading level0 row1\" >1</th>\n",
       "                        <td id=\"T_a1f9a814_5bee_11eb_8281_82a81bf93680row1_col0\" class=\"data row1 col0\" >pankaj g</td>\n",
       "                        <td id=\"T_a1f9a814_5bee_11eb_8281_82a81bf93680row1_col1\" class=\"data row1 col1\" >BCA</td>\n",
       "                        <td id=\"T_a1f9a814_5bee_11eb_8281_82a81bf93680row1_col2\" class=\"data row1 col2\" >40</td>\n",
       "                        <td id=\"T_a1f9a814_5bee_11eb_8281_82a81bf93680row1_col3\" class=\"data row1 col3\" >tcs,accenture,infosys</td>\n",
       "            </tr>\n",
       "            <tr>\n",
       "                        <th id=\"T_a1f9a814_5bee_11eb_8281_82a81bf93680level0_row2\" class=\"row_heading level0 row2\" >2</th>\n",
       "                        <td id=\"T_a1f9a814_5bee_11eb_8281_82a81bf93680row2_col0\" class=\"data row2 col0\" >sudhir p</td>\n",
       "                        <td id=\"T_a1f9a814_5bee_11eb_8281_82a81bf93680row2_col1\" class=\"data row2 col1\" >M.Tech</td>\n",
       "                        <td id=\"T_a1f9a814_5bee_11eb_8281_82a81bf93680row2_col2\" class=\"data row2 col2\" >80</td>\n",
       "                        <td id=\"T_a1f9a814_5bee_11eb_8281_82a81bf93680row2_col3\" class=\"data row2 col3\" >l&t,techmahindra,wipro</td>\n",
       "            </tr>\n",
       "            <tr>\n",
       "                        <th id=\"T_a1f9a814_5bee_11eb_8281_82a81bf93680level0_row3\" class=\"row_heading level0 row3\" >3</th>\n",
       "                        <td id=\"T_a1f9a814_5bee_11eb_8281_82a81bf93680row3_col0\" class=\"data row3 col0\" >Geeku g</td>\n",
       "                        <td id=\"T_a1f9a814_5bee_11eb_8281_82a81bf93680row3_col1\" class=\"data row3 col1\" >MBA</td>\n",
       "                        <td id=\"T_a1f9a814_5bee_11eb_8281_82a81bf93680row3_col2\" class=\"data row3 col2\" >98</td>\n",
       "                        <td id=\"T_a1f9a814_5bee_11eb_8281_82a81bf93680row3_col3\" class=\"data row3 col3\" >freshworks,Macappstudio,kovai.co</td>\n",
       "            </tr>\n",
       "    </tbody></table>"
      ],
      "text/plain": [
       "<pandas.io.formats.style.Styler at 0x16f1dbd4a8>"
      ]
     },
     "execution_count": 1,
     "metadata": {},
     "output_type": "execute_result"
    }
   ],
   "source": [
    "import pandas as pd\n",
    "json_file = {\n",
    "    'name':[\"aparna k\", \"pankaj g\", \"sudhir p\", \"Geeku g\"],\n",
    "    'degree': [\"MBA\", \"BCA\", \"M.Tech\", \"MBA\"],\n",
    "    'score':[90, 40, 80, 98],\n",
    "    'pre.employee':[\"accenture,tcs,cap\",\"tcs,accenture,infosys\",\"l&t,techmahindra,wipro\",\"freshworks,Macappstudio,kovai.co\"]\n",
    "    \n",
    "}\n",
    "df = pd.DataFrame(json_file)\n",
    "output = df.style.set_caption(\"Employee Details of Techfully.io\")\n",
    "output"
   ]
  }
 ],
 "metadata": {
  "kernelspec": {
   "display_name": "Python 3",
   "language": "python",
   "name": "python3"
  },
  "language_info": {
   "codemirror_mode": {
    "name": "ipython",
    "version": 3
   },
   "file_extension": ".py",
   "mimetype": "text/x-python",
   "name": "python",
   "nbconvert_exporter": "python",
   "pygments_lexer": "ipython3",
   "version": "3.7.3"
  }
 },
 "nbformat": 4,
 "nbformat_minor": 2
}
